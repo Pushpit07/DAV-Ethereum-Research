{
 "cells": [
  {
   "cell_type": "markdown",
   "id": "e40d9ac5",
   "metadata": {},
   "source": [
    "# Ethereum Blockchain"
   ]
  },
  {
   "cell_type": "markdown",
   "id": "3041815e",
   "metadata": {},
   "source": [
    "## Dataset"
   ]
  },
  {
   "cell_type": "markdown",
   "id": "dbc8680f",
   "metadata": {},
   "source": [
    "https://www.kaggle.com/bigquery/ethereum-blockchain"
   ]
  },
  {
   "cell_type": "markdown",
   "id": "8c412f04",
   "metadata": {},
   "source": [
    "## Description"
   ]
  },
  {
   "cell_type": "markdown",
   "id": "2c801cf4",
   "metadata": {},
   "source": [
    "- ### Context\n",
    "\n",
    "Bitcoin and other cryptocurrencies have captured the imagination of technologists, financiers, and economists. Digital currencies are only one application of the underlying blockchain technology. Like its predecessor, Bitcoin, the Ethereum blockchain can be described as an immutable distributed ledger. However, the set of capabilities have been extended by including a virtual machine that can execute arbitrary code stored on the blockchain known as **Smart Contracts**.\n",
    "\n",
    "Both Bitcoin and Ethereum are essentially OLTP databases, and provide little in the way of OLAP (analytics) functionality. However the Ethereum dataset is notably distinct from the Bitcoin dataset:\n",
    "\n",
    "1. The Ethereum blockchain has as its primary unit of value Ether, while the Bitcoin blockchain has Bitcoin. However, the majority of value transfer on the Ethereum blockchain is composed of so-called tokens. Tokens are created and managed by smart contracts.\n",
    "\n",
    "\n",
    "2. Ether value transfers are precise and direct, resembling accounting ledger debits and credits. This is in contrast to the Bitcoin value transfer mechanism, for which it can be difficult to determine the balance of a given wallet address.\n",
    "\n",
    "\n",
    "3. Addresses can be not only wallets that hold balances, but can also contain smart contract bytecode that allows the programmatic creation of agreements and automatic triggering of their execution. An aggregate of coordinated smart contracts could be used to build a decentralized autonomous organization."
   ]
  },
  {
   "cell_type": "markdown",
   "id": "d187d662",
   "metadata": {},
   "source": [
    "- ### Content\n",
    "\n",
    "The Ethereum blockchain data is available for exploration with BigQuery. All historical data is in the ethereum_blockchain dataset, which updates daily. We have leveraged this BigQuery dataset for our research project.\n",
    "\n",
    "The Dataset consists of 7 tables which will be analysed throughout the project. The tables are-\n",
    "\n",
    "1. blocks\n",
    "2. contracts\n",
    "3. logs\n",
    "4. token_transfers\n",
    "5. tokens\n",
    "6. traces\n",
    "7. transactions"
   ]
  },
  {
   "cell_type": "markdown",
   "id": "04261137",
   "metadata": {},
   "source": [
    "<hr/>"
   ]
  },
  {
   "cell_type": "markdown",
   "id": "5d4a8a02",
   "metadata": {},
   "source": [
    "# Q1. Average, min, max values of all numeric columns in table *transactions*"
   ]
  },
  {
   "cell_type": "code",
   "execution_count": null,
   "id": "66cc16d2",
   "metadata": {},
   "outputs": [],
   "source": [
    "!pip install google-cloud-bigquery"
   ]
  },
  {
   "cell_type": "code",
   "execution_count": null,
   "id": "2940208f",
   "metadata": {},
   "outputs": [],
   "source": [
    "from google.cloud import bigquery\n",
    "import pandas as pd"
   ]
  },
  {
   "cell_type": "code",
   "execution_count": null,
   "id": "58122eed",
   "metadata": {},
   "outputs": [],
   "source": [
    "# Jupyter\n",
    "import os\n",
    "os.environ[\"GOOGLE_APPLICATION_CREDENTIALS\"] = \"./dav-proj.json\"\n",
    "client = bigquery.Client()\n",
    "\n",
    "# Google Colab\n",
    "# from google.colab import auth\n",
    "# auth.authenticate_user()\n",
    "# print('Authenticated')\n",
    "# client = bigquery.Client(project=\"elite-emitter-321914\")\n",
    "\n",
    "query = \"\"\"\n",
    "SELECT *\n",
    "FROM `bigquery-public-data.crypto_ethereum.transactions`\n",
    "LIMIT 5;\n",
    "\"\"\""
   ]
  },
  {
   "cell_type": "code",
   "execution_count": null,
   "id": "fee23b66",
   "metadata": {},
   "outputs": [],
   "source": [
    "query_job = client.query(query)\n",
    "\n",
    "iterator = query_job.result(timeout=30)\n",
    "rows = list(iterator)\n",
    "\n",
    "# Transform the rows into a nice pandas dataframe\n",
    "df = pd.DataFrame(data=[list(x.values()) for x in rows], columns=list(rows[0].keys()))\n",
    "\n",
    "# Look at the first 5\n",
    "df.head(5)"
   ]
  },
  {
   "cell_type": "code",
   "execution_count": null,
   "id": "9833e90d",
   "metadata": {},
   "outputs": [],
   "source": [
    "# Average\n",
    "df[\"nonce\"].mean()\n",
    "df[\"value\"].mean()\n",
    "df[\"gas\"].mean()\n",
    "df[\"gas_price\"].mean()\n",
    "df[\"receipt_cumulative_gas_used\"].mean()"
   ]
  },
  {
   "cell_type": "code",
   "execution_count": null,
   "id": "92fa022b",
   "metadata": {},
   "outputs": [],
   "source": [
    "# Min\n",
    "df[\"nonce\"].min()\n",
    "df[\"value\"].min()\n",
    "df[\"gas\"].min()\n",
    "df[\"gas_price\"].min()\n",
    "df[\"receipt_cumulative_gas_used\"].min()"
   ]
  },
  {
   "cell_type": "code",
   "execution_count": null,
   "id": "9cdf9899",
   "metadata": {},
   "outputs": [],
   "source": [
    "# Max\n",
    "df[\"nonce\"].max()\n",
    "df[\"value\"].max()\n",
    "df[\"gas\"].max()\n",
    "df[\"gas_price\"].max()\n",
    "df[\"receipt_cumulative_gas_used\"].max()"
   ]
  },
  {
   "cell_type": "markdown",
   "id": "fce6edd3",
   "metadata": {},
   "source": [
    "# Q2. Average, min, max values for rows of all numeric columns in table *transactions*"
   ]
  },
  {
   "cell_type": "code",
   "execution_count": null,
   "id": "fdbd8365",
   "metadata": {},
   "outputs": [],
   "source": [
    "# Average\n",
    "df[df[\"nonce\"] == df[\"nonce\"].mean())]\n",
    "df[df[\"value\"] == df[\"value\"].mean())]\n",
    "df[df[\"gas\"] == df[\"gas\"].mean())]\n",
    "df[df[\"gas_price\"] == df[\"gas_price\"].mean())]\n",
    "df[df[\"receipt_cumulative_gas_used\"] == df[\"receipt_cumulative_gas_used\"].mean())]"
   ]
  },
  {
   "cell_type": "code",
   "execution_count": null,
   "id": "abe978ca",
   "metadata": {},
   "outputs": [],
   "source": [
    "# Min\n",
    "df[df[\"nonce\"] == df[\"nonce\"].min())]\n",
    "df[df[\"value\"] == df[\"value\"].min())]\n",
    "df[df[\"gas\"] == df[\"gas\"].min())]\n",
    "df[df[\"gas_price\"] == df[\"gas_price\"].min())]\n",
    "df[df[\"receipt_cumulative_gas_used\"] == df[\"receipt_cumulative_gas_used\"].min())]"
   ]
  },
  {
   "cell_type": "code",
   "execution_count": null,
   "id": "a4d9fad5",
   "metadata": {},
   "outputs": [],
   "source": [
    "# Max\n",
    "df[df[\"nonce\"] == df[\"nonce\"].max())]\n",
    "df[df[\"value\"] == df[\"value\"].max())]\n",
    "df[df[\"gas\"] == df[\"gas\"].max())]\n",
    "df[df[\"gas_price\"] == df[\"gas_price\"].max())]\n",
    "df[df[\"receipt_cumulative_gas_used\"] == df[\"receipt_cumulative_gas_used\"].max())]"
   ]
  },
  {
   "cell_type": "markdown",
   "id": "f47cb4ca",
   "metadata": {},
   "source": [
    "# Q3. Find number of missing values of each column"
   ]
  },
  {
   "cell_type": "code",
   "execution_count": null,
   "id": "e23a3ff6",
   "metadata": {},
   "outputs": [],
   "source": [
    "missing = df[\"nonce\"].isnull().sum()\n",
    "print(missing)\n",
    "\n",
    "missing = df[\"value\"].isnull().sum()\n",
    "print(missing)\n",
    "\n",
    "missing = df[\"gas\"].isnull().sum()\n",
    "print(missing)\n",
    "\n",
    "missing = df[\"gas_price\"].isnull().sum()\n",
    "print(missing)\n",
    "\n",
    "missing = df[\"receipt_cumulative_gas_used\"].isnull().sum()\n",
    "print(missing)"
   ]
  },
  {
   "cell_type": "markdown",
   "id": "a8acf47d",
   "metadata": {},
   "source": [
    "# Q4. Find the unique values of each column"
   ]
  },
  {
   "cell_type": "code",
   "execution_count": null,
   "id": "242e90b8",
   "metadata": {},
   "outputs": [],
   "source": [
    "pd.unique(df[\"nonce\"])\n",
    "pd.unique(df[\"value\"])\n",
    "pd.unique(df[\"gas\"])\n",
    "pd.unique(df[\"gas_price\"])\n",
    "pd.unique(df[\"receipt_cumulative_gas_used\"])"
   ]
  },
  {
   "cell_type": "markdown",
   "id": "9ec2de84",
   "metadata": {},
   "source": [
    "# Q5. Find subset of rows based on some condition"
   ]
  },
  {
   "cell_type": "code",
   "execution_count": null,
   "id": "889daf3e",
   "metadata": {},
   "outputs": [],
   "source": [
    "gas_used_above_100000 = df[df[\"receipt_cumulative_gas_used\"] > 100000]"
   ]
  },
  {
   "cell_type": "markdown",
   "id": "6148a4e6",
   "metadata": {},
   "source": [
    "# Q6. Find subset of columns based on some condition"
   ]
  },
  {
   "cell_type": "code",
   "execution_count": null,
   "id": "bf7f5361",
   "metadata": {},
   "outputs": [],
   "source": [
    "gas_used_above_100000 = df[\"receipt_cumulative_gas_used\"] > 100000"
   ]
  }
 ],
 "metadata": {
  "kernelspec": {
   "display_name": "Python 3",
   "language": "python",
   "name": "python3"
  },
  "language_info": {
   "codemirror_mode": {
    "name": "ipython",
    "version": 3
   },
   "file_extension": ".py",
   "mimetype": "text/x-python",
   "name": "python",
   "nbconvert_exporter": "python",
   "pygments_lexer": "ipython3",
   "version": "3.8.8"
  }
 },
 "nbformat": 4,
 "nbformat_minor": 5
}
