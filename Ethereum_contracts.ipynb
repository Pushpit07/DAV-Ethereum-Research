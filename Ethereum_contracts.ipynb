{
 "cells": [
  {
   "cell_type": "code",
   "execution_count": null,
   "source": [
    "!pip install google-cloud-bigquery"
   ],
   "outputs": [],
   "metadata": {}
  },
  {
   "cell_type": "code",
   "execution_count": 1,
   "source": [
    "import os\n",
    "os.environ[\"GOOGLE_APPLICATION_CREDENTIALS\"] = \"./dav-proj.json\""
   ],
   "outputs": [],
   "metadata": {
    "scrolled": true
   }
  },
  {
   "cell_type": "code",
   "execution_count": 2,
   "source": [
    "from google.cloud import bigquery\n",
    "import pandas as pd"
   ],
   "outputs": [],
   "metadata": {}
  },
  {
   "cell_type": "code",
   "execution_count": 3,
   "source": [
    "client = bigquery.Client()\n",
    "\n",
    "query = \"\"\"\n",
    "SELECT \n",
    "  *\n",
    "FROM\n",
    "  `bigquery-public-data.crypto_ethereum.contracts`\n",
    "LIMIT 5;\n",
    "\"\"\""
   ],
   "outputs": [],
   "metadata": {}
  },
  {
   "cell_type": "code",
   "execution_count": 5,
   "source": [
    "query_job = client.query(query)\n",
    "\n",
    "iterator = query_job.result(timeout=30)\n",
    "rows = list(iterator)\n",
    "\n",
    "# Transform the rows into a nice pandas dataframe\n",
    "df = pd.DataFrame(data=[list(x.values()) for x in rows], columns=list(rows[0].keys()))\n",
    "\n",
    "# Look at the first 5\n",
    "df.head(5)"
   ],
   "outputs": [
    {
     "output_type": "execute_result",
     "data": {
      "text/plain": [
       "                                      address  \\\n",
       "0  0xef49df92cbbeb1b9caf0506c39964b0896912345   \n",
       "1  0x49026e508c96f9ef9823942cc97a86aa9d213b88   \n",
       "2  0x52f0117651b8ff6b68c5469b7ae5abe90a4b6149   \n",
       "3  0x8760c3b40ffda178026437d131dccd314d3c129b   \n",
       "4  0xa89c4bd7828557aff6afa802bb29d4b8fe14ad57   \n",
       "\n",
       "                                            bytecode function_sighashes  \\\n",
       "0  0x60606040525b603c5b60006010603e565b9050593681...                 []   \n",
       "1  0x60606040525b603c5b60006010603e565b9050593681...                 []   \n",
       "2  0x60606040525b603c5b60006010603e565b9050593681...                 []   \n",
       "3  0x60606040525b603c5b60006010603e565b9050593681...                 []   \n",
       "4  0x60606040525b603c5b60006010603e565b9050593681...                 []   \n",
       "\n",
       "   is_erc20  is_erc721           block_timestamp  block_number  \\\n",
       "0     False      False 2017-07-17 14:29:35+00:00       4035100   \n",
       "1     False      False 2017-07-17 14:29:35+00:00       4035100   \n",
       "2     False      False 2017-07-17 14:29:35+00:00       4035100   \n",
       "3     False      False 2017-07-17 14:29:35+00:00       4035100   \n",
       "4     False      False 2017-07-17 14:29:35+00:00       4035100   \n",
       "\n",
       "                                          block_hash  \n",
       "0  0xc4047ea1aa4262d342879ee54b8b96b8f0caadd6cc93...  \n",
       "1  0xc4047ea1aa4262d342879ee54b8b96b8f0caadd6cc93...  \n",
       "2  0xc4047ea1aa4262d342879ee54b8b96b8f0caadd6cc93...  \n",
       "3  0xc4047ea1aa4262d342879ee54b8b96b8f0caadd6cc93...  \n",
       "4  0xc4047ea1aa4262d342879ee54b8b96b8f0caadd6cc93...  "
      ],
      "text/html": [
       "<div>\n",
       "<style scoped>\n",
       "    .dataframe tbody tr th:only-of-type {\n",
       "        vertical-align: middle;\n",
       "    }\n",
       "\n",
       "    .dataframe tbody tr th {\n",
       "        vertical-align: top;\n",
       "    }\n",
       "\n",
       "    .dataframe thead th {\n",
       "        text-align: right;\n",
       "    }\n",
       "</style>\n",
       "<table border=\"1\" class=\"dataframe\">\n",
       "  <thead>\n",
       "    <tr style=\"text-align: right;\">\n",
       "      <th></th>\n",
       "      <th>address</th>\n",
       "      <th>bytecode</th>\n",
       "      <th>function_sighashes</th>\n",
       "      <th>is_erc20</th>\n",
       "      <th>is_erc721</th>\n",
       "      <th>block_timestamp</th>\n",
       "      <th>block_number</th>\n",
       "      <th>block_hash</th>\n",
       "    </tr>\n",
       "  </thead>\n",
       "  <tbody>\n",
       "    <tr>\n",
       "      <th>0</th>\n",
       "      <td>0xef49df92cbbeb1b9caf0506c39964b0896912345</td>\n",
       "      <td>0x60606040525b603c5b60006010603e565b9050593681...</td>\n",
       "      <td>[]</td>\n",
       "      <td>False</td>\n",
       "      <td>False</td>\n",
       "      <td>2017-07-17 14:29:35+00:00</td>\n",
       "      <td>4035100</td>\n",
       "      <td>0xc4047ea1aa4262d342879ee54b8b96b8f0caadd6cc93...</td>\n",
       "    </tr>\n",
       "    <tr>\n",
       "      <th>1</th>\n",
       "      <td>0x49026e508c96f9ef9823942cc97a86aa9d213b88</td>\n",
       "      <td>0x60606040525b603c5b60006010603e565b9050593681...</td>\n",
       "      <td>[]</td>\n",
       "      <td>False</td>\n",
       "      <td>False</td>\n",
       "      <td>2017-07-17 14:29:35+00:00</td>\n",
       "      <td>4035100</td>\n",
       "      <td>0xc4047ea1aa4262d342879ee54b8b96b8f0caadd6cc93...</td>\n",
       "    </tr>\n",
       "    <tr>\n",
       "      <th>2</th>\n",
       "      <td>0x52f0117651b8ff6b68c5469b7ae5abe90a4b6149</td>\n",
       "      <td>0x60606040525b603c5b60006010603e565b9050593681...</td>\n",
       "      <td>[]</td>\n",
       "      <td>False</td>\n",
       "      <td>False</td>\n",
       "      <td>2017-07-17 14:29:35+00:00</td>\n",
       "      <td>4035100</td>\n",
       "      <td>0xc4047ea1aa4262d342879ee54b8b96b8f0caadd6cc93...</td>\n",
       "    </tr>\n",
       "    <tr>\n",
       "      <th>3</th>\n",
       "      <td>0x8760c3b40ffda178026437d131dccd314d3c129b</td>\n",
       "      <td>0x60606040525b603c5b60006010603e565b9050593681...</td>\n",
       "      <td>[]</td>\n",
       "      <td>False</td>\n",
       "      <td>False</td>\n",
       "      <td>2017-07-17 14:29:35+00:00</td>\n",
       "      <td>4035100</td>\n",
       "      <td>0xc4047ea1aa4262d342879ee54b8b96b8f0caadd6cc93...</td>\n",
       "    </tr>\n",
       "    <tr>\n",
       "      <th>4</th>\n",
       "      <td>0xa89c4bd7828557aff6afa802bb29d4b8fe14ad57</td>\n",
       "      <td>0x60606040525b603c5b60006010603e565b9050593681...</td>\n",
       "      <td>[]</td>\n",
       "      <td>False</td>\n",
       "      <td>False</td>\n",
       "      <td>2017-07-17 14:29:35+00:00</td>\n",
       "      <td>4035100</td>\n",
       "      <td>0xc4047ea1aa4262d342879ee54b8b96b8f0caadd6cc93...</td>\n",
       "    </tr>\n",
       "  </tbody>\n",
       "</table>\n",
       "</div>"
      ]
     },
     "metadata": {},
     "execution_count": 5
    }
   ],
   "metadata": {}
  },
  {
   "cell_type": "code",
   "execution_count": null,
   "source": [],
   "outputs": [],
   "metadata": {}
  }
 ],
 "metadata": {
  "kernelspec": {
   "display_name": "Python 3",
   "language": "python",
   "name": "python3"
  },
  "language_info": {
   "codemirror_mode": {
    "name": "ipython",
    "version": 3
   },
   "file_extension": ".py",
   "mimetype": "text/x-python",
   "name": "python",
   "nbconvert_exporter": "python",
   "pygments_lexer": "ipython3",
   "version": "3.8.8"
  }
 },
 "nbformat": 4,
 "nbformat_minor": 5
}