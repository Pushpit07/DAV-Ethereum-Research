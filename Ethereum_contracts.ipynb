{
 "cells": [
  {
   "cell_type": "code",
   "execution_count": null,
   "id": "6532eaad",
   "metadata": {},
   "outputs": [],
   "source": [
    "!pip install google-cloud-bigquery"
   ]
  },
  {
   "cell_type": "code",
   "execution_count": 1,
   "id": "62e12d6d",
   "metadata": {
    "scrolled": true
   },
   "outputs": [],
   "source": [
    "import os\n",
    "os.environ[\"GOOGLE_APPLICATION_CREDENTIALS\"] = \"./dav-proj.json\""
   ]
  },
  {
   "cell_type": "code",
   "execution_count": 2,
   "id": "aeef0eac",
   "metadata": {},
   "outputs": [],
   "source": [
    "from google.cloud import bigquery\n",
    "import pandas as pd"
   ]
  },
  {
   "cell_type": "code",
   "execution_count": 14,
   "id": "a55abd28",
   "metadata": {},
   "outputs": [],
   "source": [
    "client = bigquery.Client()\n",
    "\n",
    "query = \"\"\"\n",
    "SELECT *\n",
    "FROM `bigquery-public-data.crypto_ethereum.contracts`\n",
    "ORDER BY block_timestamp DESC\n",
    "LIMIT 5;\n",
    "\"\"\""
   ]
  },
  {
   "cell_type": "code",
   "execution_count": 15,
   "id": "eeac44de",
   "metadata": {},
   "outputs": [
    {
     "data": {
      "text/html": [
       "<div>\n",
       "<style scoped>\n",
       "    .dataframe tbody tr th:only-of-type {\n",
       "        vertical-align: middle;\n",
       "    }\n",
       "\n",
       "    .dataframe tbody tr th {\n",
       "        vertical-align: top;\n",
       "    }\n",
       "\n",
       "    .dataframe thead th {\n",
       "        text-align: right;\n",
       "    }\n",
       "</style>\n",
       "<table border=\"1\" class=\"dataframe\">\n",
       "  <thead>\n",
       "    <tr style=\"text-align: right;\">\n",
       "      <th></th>\n",
       "      <th>address</th>\n",
       "      <th>bytecode</th>\n",
       "      <th>function_sighashes</th>\n",
       "      <th>is_erc20</th>\n",
       "      <th>is_erc721</th>\n",
       "      <th>block_timestamp</th>\n",
       "      <th>block_number</th>\n",
       "      <th>block_hash</th>\n",
       "    </tr>\n",
       "  </thead>\n",
       "  <tbody>\n",
       "    <tr>\n",
       "      <th>0</th>\n",
       "      <td>0x15ce66352822157d022715bb52b162153fc9ea1d</td>\n",
       "      <td>0x363d3d373d3d3d363d735ced283c5298548883e28bf9...</td>\n",
       "      <td>[]</td>\n",
       "      <td>False</td>\n",
       "      <td>False</td>\n",
       "      <td>2021-08-04 16:36:48+00:00</td>\n",
       "      <td>12959766</td>\n",
       "      <td>0x91ce02450140b0636ad2ba4132a7d4ac181e5917e4f7...</td>\n",
       "    </tr>\n",
       "    <tr>\n",
       "      <th>1</th>\n",
       "      <td>0xc20b031f694d10d103a925e7f8250e9857545799</td>\n",
       "      <td>0x363d3d373d3d3d363d73e8cf98d1c787241133774987...</td>\n",
       "      <td>[]</td>\n",
       "      <td>False</td>\n",
       "      <td>False</td>\n",
       "      <td>2021-08-04 16:36:48+00:00</td>\n",
       "      <td>12959766</td>\n",
       "      <td>0x91ce02450140b0636ad2ba4132a7d4ac181e5917e4f7...</td>\n",
       "    </tr>\n",
       "    <tr>\n",
       "      <th>2</th>\n",
       "      <td>0x140fae11f158506c3b0d1a85895316028b03619e</td>\n",
       "      <td>0x363d3d373d3d3d363d734e511672f70a927420252a5e...</td>\n",
       "      <td>[]</td>\n",
       "      <td>False</td>\n",
       "      <td>False</td>\n",
       "      <td>2021-08-04 16:36:48+00:00</td>\n",
       "      <td>12959766</td>\n",
       "      <td>0x91ce02450140b0636ad2ba4132a7d4ac181e5917e4f7...</td>\n",
       "    </tr>\n",
       "    <tr>\n",
       "      <th>3</th>\n",
       "      <td>0x8cbaeeeedd602da0cd3f36466baccd3e4331bdaf</td>\n",
       "      <td>0x363d3d373d3d3d363d73e8cf98d1c787241133774987...</td>\n",
       "      <td>[]</td>\n",
       "      <td>False</td>\n",
       "      <td>False</td>\n",
       "      <td>2021-08-04 16:36:48+00:00</td>\n",
       "      <td>12959766</td>\n",
       "      <td>0x91ce02450140b0636ad2ba4132a7d4ac181e5917e4f7...</td>\n",
       "    </tr>\n",
       "    <tr>\n",
       "      <th>4</th>\n",
       "      <td>0x9473e78e49e853a830b582806eee2db68d7d0b55</td>\n",
       "      <td>0x363d3d373d3d3d363d731bc5b754e100e12ab00cb88c...</td>\n",
       "      <td>[]</td>\n",
       "      <td>False</td>\n",
       "      <td>False</td>\n",
       "      <td>2021-08-04 16:36:48+00:00</td>\n",
       "      <td>12959766</td>\n",
       "      <td>0x91ce02450140b0636ad2ba4132a7d4ac181e5917e4f7...</td>\n",
       "    </tr>\n",
       "  </tbody>\n",
       "</table>\n",
       "</div>"
      ],
      "text/plain": [
       "                                      address  \\\n",
       "0  0x15ce66352822157d022715bb52b162153fc9ea1d   \n",
       "1  0xc20b031f694d10d103a925e7f8250e9857545799   \n",
       "2  0x140fae11f158506c3b0d1a85895316028b03619e   \n",
       "3  0x8cbaeeeedd602da0cd3f36466baccd3e4331bdaf   \n",
       "4  0x9473e78e49e853a830b582806eee2db68d7d0b55   \n",
       "\n",
       "                                            bytecode function_sighashes  \\\n",
       "0  0x363d3d373d3d3d363d735ced283c5298548883e28bf9...                 []   \n",
       "1  0x363d3d373d3d3d363d73e8cf98d1c787241133774987...                 []   \n",
       "2  0x363d3d373d3d3d363d734e511672f70a927420252a5e...                 []   \n",
       "3  0x363d3d373d3d3d363d73e8cf98d1c787241133774987...                 []   \n",
       "4  0x363d3d373d3d3d363d731bc5b754e100e12ab00cb88c...                 []   \n",
       "\n",
       "   is_erc20  is_erc721           block_timestamp  block_number  \\\n",
       "0     False      False 2021-08-04 16:36:48+00:00      12959766   \n",
       "1     False      False 2021-08-04 16:36:48+00:00      12959766   \n",
       "2     False      False 2021-08-04 16:36:48+00:00      12959766   \n",
       "3     False      False 2021-08-04 16:36:48+00:00      12959766   \n",
       "4     False      False 2021-08-04 16:36:48+00:00      12959766   \n",
       "\n",
       "                                          block_hash  \n",
       "0  0x91ce02450140b0636ad2ba4132a7d4ac181e5917e4f7...  \n",
       "1  0x91ce02450140b0636ad2ba4132a7d4ac181e5917e4f7...  \n",
       "2  0x91ce02450140b0636ad2ba4132a7d4ac181e5917e4f7...  \n",
       "3  0x91ce02450140b0636ad2ba4132a7d4ac181e5917e4f7...  \n",
       "4  0x91ce02450140b0636ad2ba4132a7d4ac181e5917e4f7...  "
      ]
     },
     "execution_count": 15,
     "metadata": {},
     "output_type": "execute_result"
    }
   ],
   "source": [
    "query_job = client.query(query)\n",
    "\n",
    "iterator = query_job.result(timeout=30)\n",
    "rows = list(iterator)\n",
    "\n",
    "# Transform the rows into a nice pandas dataframe\n",
    "df = pd.DataFrame(data=[list(x.values()) for x in rows], columns=list(rows[0].keys()))\n",
    "\n",
    "# Look at the first 5\n",
    "df.head(5)"
   ]
  },
  {
   "cell_type": "code",
   "execution_count": null,
   "id": "aac3dd4c",
   "metadata": {},
   "outputs": [],
   "source": []
  }
 ],
 "metadata": {
  "kernelspec": {
   "display_name": "Python 3",
   "language": "python",
   "name": "python3"
  },
  "language_info": {
   "codemirror_mode": {
    "name": "ipython",
    "version": 3
   },
   "file_extension": ".py",
   "mimetype": "text/x-python",
   "name": "python",
   "nbconvert_exporter": "python",
   "pygments_lexer": "ipython3",
   "version": "3.8.8"
  }
 },
 "nbformat": 4,
 "nbformat_minor": 5
}
