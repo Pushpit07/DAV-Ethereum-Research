{
 "cells": [
  {
   "cell_type": "code",
   "execution_count": null,
   "id": "6532eaad",
   "metadata": {},
   "outputs": [],
   "source": [
    "!pip install google-cloud-bigquery"
   ]
  },
  {
   "cell_type": "code",
   "execution_count": 1,
   "id": "62e12d6d",
   "metadata": {
    "scrolled": true
   },
   "outputs": [],
   "source": [
    "import os\n",
    "os.environ[\"GOOGLE_APPLICATION_CREDENTIALS\"] = \"./dav-proj.json\""
   ]
  },
  {
   "cell_type": "code",
   "execution_count": 2,
   "id": "aeef0eac",
   "metadata": {},
   "outputs": [],
   "source": [
    "from google.cloud import bigquery\n",
    "import pandas as pd"
   ]
  },
  {
   "cell_type": "code",
   "execution_count": 3,
   "id": "a55abd28",
   "metadata": {},
   "outputs": [],
   "source": [
    "client = bigquery.Client()\n",
    "\n",
    "query = \"\"\"\n",
    "SELECT *\n",
    "FROM `bigquery-public-data.crypto_ethereum.contracts`\n",
    "ORDER BY block_timestamp DESC\n",
    "LIMIT 5;\n",
    "\"\"\""
   ]
  },
  {
   "cell_type": "code",
   "execution_count": 4,
   "id": "eeac44de",
   "metadata": {},
   "outputs": [
    {
     "data": {
      "text/html": [
       "<div>\n",
       "<style scoped>\n",
       "    .dataframe tbody tr th:only-of-type {\n",
       "        vertical-align: middle;\n",
       "    }\n",
       "\n",
       "    .dataframe tbody tr th {\n",
       "        vertical-align: top;\n",
       "    }\n",
       "\n",
       "    .dataframe thead th {\n",
       "        text-align: right;\n",
       "    }\n",
       "</style>\n",
       "<table border=\"1\" class=\"dataframe\">\n",
       "  <thead>\n",
       "    <tr style=\"text-align: right;\">\n",
       "      <th></th>\n",
       "      <th>address</th>\n",
       "      <th>bytecode</th>\n",
       "      <th>function_sighashes</th>\n",
       "      <th>is_erc20</th>\n",
       "      <th>is_erc721</th>\n",
       "      <th>block_timestamp</th>\n",
       "      <th>block_number</th>\n",
       "      <th>block_hash</th>\n",
       "    </tr>\n",
       "  </thead>\n",
       "  <tbody>\n",
       "    <tr>\n",
       "      <th>0</th>\n",
       "      <td>0x58bda0e309d2634dbcff68d752644acdf2601674</td>\n",
       "      <td>0x6080604052600436106100825763ffffffff7c010000...</td>\n",
       "      <td>[0x025313a2, 0x3659cfe6, 0x4555d5c9, 0x4f1ef28...</td>\n",
       "      <td>False</td>\n",
       "      <td>False</td>\n",
       "      <td>2021-08-25 08:13:06+00:00</td>\n",
       "      <td>13093399</td>\n",
       "      <td>0x2ef22ea0c36aed7881af1e187b9f889064e4e66a0104...</td>\n",
       "    </tr>\n",
       "    <tr>\n",
       "      <th>1</th>\n",
       "      <td>0xe06a171cc0453657776a88fc77dc0cce382ee7cc</td>\n",
       "      <td>0x6080604052600436106100825763ffffffff7c010000...</td>\n",
       "      <td>[0x025313a2, 0x3659cfe6, 0x4555d5c9, 0x4f1ef28...</td>\n",
       "      <td>False</td>\n",
       "      <td>False</td>\n",
       "      <td>2021-08-25 08:13:06+00:00</td>\n",
       "      <td>13093399</td>\n",
       "      <td>0x2ef22ea0c36aed7881af1e187b9f889064e4e66a0104...</td>\n",
       "    </tr>\n",
       "    <tr>\n",
       "      <th>2</th>\n",
       "      <td>0x7130a52521a5ff141561f99e04a1e5fc85536f0e</td>\n",
       "      <td>0x6080604052600436106100825763ffffffff7c010000...</td>\n",
       "      <td>[0x025313a2, 0x3659cfe6, 0x4555d5c9, 0x4f1ef28...</td>\n",
       "      <td>False</td>\n",
       "      <td>False</td>\n",
       "      <td>2021-08-25 08:13:06+00:00</td>\n",
       "      <td>13093399</td>\n",
       "      <td>0x2ef22ea0c36aed7881af1e187b9f889064e4e66a0104...</td>\n",
       "    </tr>\n",
       "    <tr>\n",
       "      <th>3</th>\n",
       "      <td>0x7c475c30a4f8a2a322bb07ec0527d36e6c390f0a</td>\n",
       "      <td>0x6080604052600436106100825763ffffffff7c010000...</td>\n",
       "      <td>[0x025313a2, 0x3659cfe6, 0x4555d5c9, 0x4f1ef28...</td>\n",
       "      <td>False</td>\n",
       "      <td>False</td>\n",
       "      <td>2021-08-25 08:13:06+00:00</td>\n",
       "      <td>13093399</td>\n",
       "      <td>0x2ef22ea0c36aed7881af1e187b9f889064e4e66a0104...</td>\n",
       "    </tr>\n",
       "    <tr>\n",
       "      <th>4</th>\n",
       "      <td>0x4bb3d5bd778d93a97db135eb3c2bd1ff3a8dff59</td>\n",
       "      <td>0x363d3d373d3d3d363d7363a5c114bc674a451dccb796...</td>\n",
       "      <td>[]</td>\n",
       "      <td>False</td>\n",
       "      <td>False</td>\n",
       "      <td>2021-08-25 08:13:06+00:00</td>\n",
       "      <td>13093399</td>\n",
       "      <td>0x2ef22ea0c36aed7881af1e187b9f889064e4e66a0104...</td>\n",
       "    </tr>\n",
       "  </tbody>\n",
       "</table>\n",
       "</div>"
      ],
      "text/plain": [
       "                                      address  \\\n",
       "0  0x58bda0e309d2634dbcff68d752644acdf2601674   \n",
       "1  0xe06a171cc0453657776a88fc77dc0cce382ee7cc   \n",
       "2  0x7130a52521a5ff141561f99e04a1e5fc85536f0e   \n",
       "3  0x7c475c30a4f8a2a322bb07ec0527d36e6c390f0a   \n",
       "4  0x4bb3d5bd778d93a97db135eb3c2bd1ff3a8dff59   \n",
       "\n",
       "                                            bytecode  \\\n",
       "0  0x6080604052600436106100825763ffffffff7c010000...   \n",
       "1  0x6080604052600436106100825763ffffffff7c010000...   \n",
       "2  0x6080604052600436106100825763ffffffff7c010000...   \n",
       "3  0x6080604052600436106100825763ffffffff7c010000...   \n",
       "4  0x363d3d373d3d3d363d7363a5c114bc674a451dccb796...   \n",
       "\n",
       "                                  function_sighashes  is_erc20  is_erc721  \\\n",
       "0  [0x025313a2, 0x3659cfe6, 0x4555d5c9, 0x4f1ef28...     False      False   \n",
       "1  [0x025313a2, 0x3659cfe6, 0x4555d5c9, 0x4f1ef28...     False      False   \n",
       "2  [0x025313a2, 0x3659cfe6, 0x4555d5c9, 0x4f1ef28...     False      False   \n",
       "3  [0x025313a2, 0x3659cfe6, 0x4555d5c9, 0x4f1ef28...     False      False   \n",
       "4                                                 []     False      False   \n",
       "\n",
       "            block_timestamp  block_number  \\\n",
       "0 2021-08-25 08:13:06+00:00      13093399   \n",
       "1 2021-08-25 08:13:06+00:00      13093399   \n",
       "2 2021-08-25 08:13:06+00:00      13093399   \n",
       "3 2021-08-25 08:13:06+00:00      13093399   \n",
       "4 2021-08-25 08:13:06+00:00      13093399   \n",
       "\n",
       "                                          block_hash  \n",
       "0  0x2ef22ea0c36aed7881af1e187b9f889064e4e66a0104...  \n",
       "1  0x2ef22ea0c36aed7881af1e187b9f889064e4e66a0104...  \n",
       "2  0x2ef22ea0c36aed7881af1e187b9f889064e4e66a0104...  \n",
       "3  0x2ef22ea0c36aed7881af1e187b9f889064e4e66a0104...  \n",
       "4  0x2ef22ea0c36aed7881af1e187b9f889064e4e66a0104...  "
      ]
     },
     "execution_count": 4,
     "metadata": {},
     "output_type": "execute_result"
    }
   ],
   "source": [
    "query_job = client.query(query)\n",
    "\n",
    "iterator = query_job.result(timeout=30)\n",
    "rows = list(iterator)\n",
    "\n",
    "# Transform the rows into a nice pandas dataframe\n",
    "df = pd.DataFrame(data=[list(x.values()) for x in rows], columns=list(rows[0].keys()))\n",
    "\n",
    "# Look at the first 5\n",
    "df.head(5)"
   ]
  },
  {
   "cell_type": "code",
   "execution_count": 5,
   "id": "aac3dd4c",
   "metadata": {},
   "outputs": [
    {
     "data": {
      "text/html": [
       "<div>\n",
       "<style scoped>\n",
       "    .dataframe tbody tr th:only-of-type {\n",
       "        vertical-align: middle;\n",
       "    }\n",
       "\n",
       "    .dataframe tbody tr th {\n",
       "        vertical-align: top;\n",
       "    }\n",
       "\n",
       "    .dataframe thead th {\n",
       "        text-align: right;\n",
       "    }\n",
       "</style>\n",
       "<table border=\"1\" class=\"dataframe\">\n",
       "  <thead>\n",
       "    <tr style=\"text-align: right;\">\n",
       "      <th></th>\n",
       "      <th>address</th>\n",
       "      <th>bytecode</th>\n",
       "      <th>function_sighashes</th>\n",
       "      <th>is_erc20</th>\n",
       "      <th>is_erc721</th>\n",
       "      <th>block_timestamp</th>\n",
       "      <th>block_number</th>\n",
       "      <th>block_hash</th>\n",
       "    </tr>\n",
       "  </thead>\n",
       "  <tbody>\n",
       "    <tr>\n",
       "      <th>0</th>\n",
       "      <td>0x58bda0e309d2634dbcff68d752644acdf2601674</td>\n",
       "      <td>0x6080604052600436106100825763ffffffff7c010000...</td>\n",
       "      <td>[0x025313a2, 0x3659cfe6, 0x4555d5c9, 0x4f1ef28...</td>\n",
       "      <td>False</td>\n",
       "      <td>False</td>\n",
       "      <td>2021-08-25 08:13:06+00:00</td>\n",
       "      <td>13093399</td>\n",
       "      <td>0x2ef22ea0c36aed7881af1e187b9f889064e4e66a0104...</td>\n",
       "    </tr>\n",
       "    <tr>\n",
       "      <th>1</th>\n",
       "      <td>0xe06a171cc0453657776a88fc77dc0cce382ee7cc</td>\n",
       "      <td>0x6080604052600436106100825763ffffffff7c010000...</td>\n",
       "      <td>[0x025313a2, 0x3659cfe6, 0x4555d5c9, 0x4f1ef28...</td>\n",
       "      <td>False</td>\n",
       "      <td>False</td>\n",
       "      <td>2021-08-25 08:13:06+00:00</td>\n",
       "      <td>13093399</td>\n",
       "      <td>0x2ef22ea0c36aed7881af1e187b9f889064e4e66a0104...</td>\n",
       "    </tr>\n",
       "    <tr>\n",
       "      <th>2</th>\n",
       "      <td>0x7130a52521a5ff141561f99e04a1e5fc85536f0e</td>\n",
       "      <td>0x6080604052600436106100825763ffffffff7c010000...</td>\n",
       "      <td>[0x025313a2, 0x3659cfe6, 0x4555d5c9, 0x4f1ef28...</td>\n",
       "      <td>False</td>\n",
       "      <td>False</td>\n",
       "      <td>2021-08-25 08:13:06+00:00</td>\n",
       "      <td>13093399</td>\n",
       "      <td>0x2ef22ea0c36aed7881af1e187b9f889064e4e66a0104...</td>\n",
       "    </tr>\n",
       "    <tr>\n",
       "      <th>3</th>\n",
       "      <td>0x7c475c30a4f8a2a322bb07ec0527d36e6c390f0a</td>\n",
       "      <td>0x6080604052600436106100825763ffffffff7c010000...</td>\n",
       "      <td>[0x025313a2, 0x3659cfe6, 0x4555d5c9, 0x4f1ef28...</td>\n",
       "      <td>False</td>\n",
       "      <td>False</td>\n",
       "      <td>2021-08-25 08:13:06+00:00</td>\n",
       "      <td>13093399</td>\n",
       "      <td>0x2ef22ea0c36aed7881af1e187b9f889064e4e66a0104...</td>\n",
       "    </tr>\n",
       "    <tr>\n",
       "      <th>4</th>\n",
       "      <td>0x4bb3d5bd778d93a97db135eb3c2bd1ff3a8dff59</td>\n",
       "      <td>0x363d3d373d3d3d363d7363a5c114bc674a451dccb796...</td>\n",
       "      <td>[]</td>\n",
       "      <td>False</td>\n",
       "      <td>False</td>\n",
       "      <td>2021-08-25 08:13:06+00:00</td>\n",
       "      <td>13093399</td>\n",
       "      <td>0x2ef22ea0c36aed7881af1e187b9f889064e4e66a0104...</td>\n",
       "    </tr>\n",
       "  </tbody>\n",
       "</table>\n",
       "</div>"
      ],
      "text/plain": [
       "                                      address  \\\n",
       "0  0x58bda0e309d2634dbcff68d752644acdf2601674   \n",
       "1  0xe06a171cc0453657776a88fc77dc0cce382ee7cc   \n",
       "2  0x7130a52521a5ff141561f99e04a1e5fc85536f0e   \n",
       "3  0x7c475c30a4f8a2a322bb07ec0527d36e6c390f0a   \n",
       "4  0x4bb3d5bd778d93a97db135eb3c2bd1ff3a8dff59   \n",
       "\n",
       "                                            bytecode  \\\n",
       "0  0x6080604052600436106100825763ffffffff7c010000...   \n",
       "1  0x6080604052600436106100825763ffffffff7c010000...   \n",
       "2  0x6080604052600436106100825763ffffffff7c010000...   \n",
       "3  0x6080604052600436106100825763ffffffff7c010000...   \n",
       "4  0x363d3d373d3d3d363d7363a5c114bc674a451dccb796...   \n",
       "\n",
       "                                  function_sighashes  is_erc20  is_erc721  \\\n",
       "0  [0x025313a2, 0x3659cfe6, 0x4555d5c9, 0x4f1ef28...     False      False   \n",
       "1  [0x025313a2, 0x3659cfe6, 0x4555d5c9, 0x4f1ef28...     False      False   \n",
       "2  [0x025313a2, 0x3659cfe6, 0x4555d5c9, 0x4f1ef28...     False      False   \n",
       "3  [0x025313a2, 0x3659cfe6, 0x4555d5c9, 0x4f1ef28...     False      False   \n",
       "4                                                 []     False      False   \n",
       "\n",
       "            block_timestamp  block_number  \\\n",
       "0 2021-08-25 08:13:06+00:00      13093399   \n",
       "1 2021-08-25 08:13:06+00:00      13093399   \n",
       "2 2021-08-25 08:13:06+00:00      13093399   \n",
       "3 2021-08-25 08:13:06+00:00      13093399   \n",
       "4 2021-08-25 08:13:06+00:00      13093399   \n",
       "\n",
       "                                          block_hash  \n",
       "0  0x2ef22ea0c36aed7881af1e187b9f889064e4e66a0104...  \n",
       "1  0x2ef22ea0c36aed7881af1e187b9f889064e4e66a0104...  \n",
       "2  0x2ef22ea0c36aed7881af1e187b9f889064e4e66a0104...  \n",
       "3  0x2ef22ea0c36aed7881af1e187b9f889064e4e66a0104...  \n",
       "4  0x2ef22ea0c36aed7881af1e187b9f889064e4e66a0104...  "
      ]
     },
     "execution_count": 5,
     "metadata": {},
     "output_type": "execute_result"
    }
   ],
   "source": [
    "df"
   ]
  },
  {
   "cell_type": "code",
   "execution_count": 7,
   "id": "1ec1ed62",
   "metadata": {},
   "outputs": [
    {
     "data": {
      "text/plain": [
       "13093399.0"
      ]
     },
     "execution_count": 7,
     "metadata": {},
     "output_type": "execute_result"
    }
   ],
   "source": []
  },
  {
   "cell_type": "code",
   "execution_count": 8,
   "id": "cbb423da",
   "metadata": {},
   "outputs": [
    {
     "data": {
      "text/plain": [
       "13093399"
      ]
     },
     "execution_count": 8,
     "metadata": {},
     "output_type": "execute_result"
    }
   ],
   "source": [
    "df[\"block_number\"].min()"
   ]
  },
  {
   "cell_type": "code",
   "execution_count": 9,
   "id": "f297f975",
   "metadata": {},
   "outputs": [
    {
     "data": {
      "text/plain": [
       "13093399"
      ]
     },
     "execution_count": 9,
     "metadata": {},
     "output_type": "execute_result"
    }
   ],
   "source": [
    "df[\"block_number\"].max()"
   ]
  },
  {
   "cell_type": "code",
   "execution_count": 11,
   "id": "8422d5a9",
   "metadata": {},
   "outputs": [
    {
     "name": "stdout",
     "output_type": "stream",
     "text": [
      "0\n"
     ]
    }
   ],
   "source": [
    "missing = df[\"function_sighashes\"].isnull().sum()\n",
    "print(missing)"
   ]
  },
  {
   "cell_type": "code",
   "execution_count": 12,
   "id": "68cb6c4e",
   "metadata": {},
   "outputs": [
    {
     "data": {
      "text/plain": [
       "array([13093399])"
      ]
     },
     "execution_count": 12,
     "metadata": {},
     "output_type": "execute_result"
    }
   ],
   "source": [
    "pd.unique(df[\"block_number\"])"
   ]
  },
  {
   "cell_type": "code",
   "execution_count": 13,
   "id": "87097ad2",
   "metadata": {},
   "outputs": [
    {
     "data": {
      "text/html": [
       "<div>\n",
       "<style scoped>\n",
       "    .dataframe tbody tr th:only-of-type {\n",
       "        vertical-align: middle;\n",
       "    }\n",
       "\n",
       "    .dataframe tbody tr th {\n",
       "        vertical-align: top;\n",
       "    }\n",
       "\n",
       "    .dataframe thead th {\n",
       "        text-align: right;\n",
       "    }\n",
       "</style>\n",
       "<table border=\"1\" class=\"dataframe\">\n",
       "  <thead>\n",
       "    <tr style=\"text-align: right;\">\n",
       "      <th></th>\n",
       "      <th>address</th>\n",
       "      <th>bytecode</th>\n",
       "      <th>function_sighashes</th>\n",
       "      <th>is_erc20</th>\n",
       "      <th>is_erc721</th>\n",
       "      <th>block_timestamp</th>\n",
       "      <th>block_number</th>\n",
       "      <th>block_hash</th>\n",
       "    </tr>\n",
       "  </thead>\n",
       "  <tbody>\n",
       "    <tr>\n",
       "      <th>0</th>\n",
       "      <td>0x58bda0e309d2634dbcff68d752644acdf2601674</td>\n",
       "      <td>0x6080604052600436106100825763ffffffff7c010000...</td>\n",
       "      <td>[0x025313a2, 0x3659cfe6, 0x4555d5c9, 0x4f1ef28...</td>\n",
       "      <td>False</td>\n",
       "      <td>False</td>\n",
       "      <td>2021-08-25 08:13:06+00:00</td>\n",
       "      <td>13093399</td>\n",
       "      <td>0x2ef22ea0c36aed7881af1e187b9f889064e4e66a0104...</td>\n",
       "    </tr>\n",
       "    <tr>\n",
       "      <th>1</th>\n",
       "      <td>0xe06a171cc0453657776a88fc77dc0cce382ee7cc</td>\n",
       "      <td>0x6080604052600436106100825763ffffffff7c010000...</td>\n",
       "      <td>[0x025313a2, 0x3659cfe6, 0x4555d5c9, 0x4f1ef28...</td>\n",
       "      <td>False</td>\n",
       "      <td>False</td>\n",
       "      <td>2021-08-25 08:13:06+00:00</td>\n",
       "      <td>13093399</td>\n",
       "      <td>0x2ef22ea0c36aed7881af1e187b9f889064e4e66a0104...</td>\n",
       "    </tr>\n",
       "    <tr>\n",
       "      <th>2</th>\n",
       "      <td>0x7130a52521a5ff141561f99e04a1e5fc85536f0e</td>\n",
       "      <td>0x6080604052600436106100825763ffffffff7c010000...</td>\n",
       "      <td>[0x025313a2, 0x3659cfe6, 0x4555d5c9, 0x4f1ef28...</td>\n",
       "      <td>False</td>\n",
       "      <td>False</td>\n",
       "      <td>2021-08-25 08:13:06+00:00</td>\n",
       "      <td>13093399</td>\n",
       "      <td>0x2ef22ea0c36aed7881af1e187b9f889064e4e66a0104...</td>\n",
       "    </tr>\n",
       "    <tr>\n",
       "      <th>3</th>\n",
       "      <td>0x7c475c30a4f8a2a322bb07ec0527d36e6c390f0a</td>\n",
       "      <td>0x6080604052600436106100825763ffffffff7c010000...</td>\n",
       "      <td>[0x025313a2, 0x3659cfe6, 0x4555d5c9, 0x4f1ef28...</td>\n",
       "      <td>False</td>\n",
       "      <td>False</td>\n",
       "      <td>2021-08-25 08:13:06+00:00</td>\n",
       "      <td>13093399</td>\n",
       "      <td>0x2ef22ea0c36aed7881af1e187b9f889064e4e66a0104...</td>\n",
       "    </tr>\n",
       "    <tr>\n",
       "      <th>4</th>\n",
       "      <td>0x4bb3d5bd778d93a97db135eb3c2bd1ff3a8dff59</td>\n",
       "      <td>0x363d3d373d3d3d363d7363a5c114bc674a451dccb796...</td>\n",
       "      <td>[]</td>\n",
       "      <td>False</td>\n",
       "      <td>False</td>\n",
       "      <td>2021-08-25 08:13:06+00:00</td>\n",
       "      <td>13093399</td>\n",
       "      <td>0x2ef22ea0c36aed7881af1e187b9f889064e4e66a0104...</td>\n",
       "    </tr>\n",
       "  </tbody>\n",
       "</table>\n",
       "</div>"
      ],
      "text/plain": [
       "                                      address  \\\n",
       "0  0x58bda0e309d2634dbcff68d752644acdf2601674   \n",
       "1  0xe06a171cc0453657776a88fc77dc0cce382ee7cc   \n",
       "2  0x7130a52521a5ff141561f99e04a1e5fc85536f0e   \n",
       "3  0x7c475c30a4f8a2a322bb07ec0527d36e6c390f0a   \n",
       "4  0x4bb3d5bd778d93a97db135eb3c2bd1ff3a8dff59   \n",
       "\n",
       "                                            bytecode  \\\n",
       "0  0x6080604052600436106100825763ffffffff7c010000...   \n",
       "1  0x6080604052600436106100825763ffffffff7c010000...   \n",
       "2  0x6080604052600436106100825763ffffffff7c010000...   \n",
       "3  0x6080604052600436106100825763ffffffff7c010000...   \n",
       "4  0x363d3d373d3d3d363d7363a5c114bc674a451dccb796...   \n",
       "\n",
       "                                  function_sighashes  is_erc20  is_erc721  \\\n",
       "0  [0x025313a2, 0x3659cfe6, 0x4555d5c9, 0x4f1ef28...     False      False   \n",
       "1  [0x025313a2, 0x3659cfe6, 0x4555d5c9, 0x4f1ef28...     False      False   \n",
       "2  [0x025313a2, 0x3659cfe6, 0x4555d5c9, 0x4f1ef28...     False      False   \n",
       "3  [0x025313a2, 0x3659cfe6, 0x4555d5c9, 0x4f1ef28...     False      False   \n",
       "4                                                 []     False      False   \n",
       "\n",
       "            block_timestamp  block_number  \\\n",
       "0 2021-08-25 08:13:06+00:00      13093399   \n",
       "1 2021-08-25 08:13:06+00:00      13093399   \n",
       "2 2021-08-25 08:13:06+00:00      13093399   \n",
       "3 2021-08-25 08:13:06+00:00      13093399   \n",
       "4 2021-08-25 08:13:06+00:00      13093399   \n",
       "\n",
       "                                          block_hash  \n",
       "0  0x2ef22ea0c36aed7881af1e187b9f889064e4e66a0104...  \n",
       "1  0x2ef22ea0c36aed7881af1e187b9f889064e4e66a0104...  \n",
       "2  0x2ef22ea0c36aed7881af1e187b9f889064e4e66a0104...  \n",
       "3  0x2ef22ea0c36aed7881af1e187b9f889064e4e66a0104...  \n",
       "4  0x2ef22ea0c36aed7881af1e187b9f889064e4e66a0104...  "
      ]
     },
     "execution_count": 13,
     "metadata": {},
     "output_type": "execute_result"
    }
   ],
   "source": [
    "df[df[\"block_number\"] == df[\"block_number\"].min()]"
   ]
  },
  {
   "cell_type": "code",
   "execution_count": null,
   "id": "4bece701",
   "metadata": {},
   "outputs": [],
   "source": []
  }
 ],
 "metadata": {
  "kernelspec": {
   "display_name": "Python 3",
   "language": "python",
   "name": "python3"
  },
  "language_info": {
   "codemirror_mode": {
    "name": "ipython",
    "version": 3
   },
   "file_extension": ".py",
   "mimetype": "text/x-python",
   "name": "python",
   "nbconvert_exporter": "python",
   "pygments_lexer": "ipython3",
   "version": "3.8.8"
  }
 },
 "nbformat": 4,
 "nbformat_minor": 5
}
